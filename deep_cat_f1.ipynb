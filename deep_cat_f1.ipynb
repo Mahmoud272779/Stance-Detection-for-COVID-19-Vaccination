{
  "cells": [
    {
      "cell_type": "code",
      "execution_count": 269,
      "metadata": {
        "id": "jHphMs2FFbbx"
      },
      "outputs": [],
      "source": [
        "import os \n",
        "import numpy as np\n",
        "import pandas as pd\n",
        "from tqdm import tqdm\n",
        "import torch\n",
        "from torch import nn\n",
        "import nltk\n",
        "import re\n",
        "from sklearn import metrics\n",
        "import matplotlib.pyplot as plt\n",
        "import seaborn as sns\n",
        "# from keras.preprocessing.text import Tokenizer"
      ]
    },
    {
      "cell_type": "code",
      "execution_count": 270,
      "metadata": {
        "colab": {
          "base_uri": "https://localhost:8080/"
        },
        "id": "EHN9uO0mF_zJ",
        "outputId": "0ec67345-86d0-4097-c274-093179ee0523"
      },
      "outputs": [
        {
          "name": "stderr",
          "output_type": "stream",
          "text": [
            "[nltk_data] Downloading package stopwords to E:\\nltk_data...\n",
            "[nltk_data]   Package stopwords is already up-to-date!\n"
          ]
        },
        {
          "data": {
            "text/plain": [
              "True"
            ]
          },
          "execution_count": 270,
          "metadata": {},
          "output_type": "execute_result"
        }
      ],
      "source": [
        "nltk.download('stopwords')"
      ]
    },
    {
      "cell_type": "code",
      "execution_count": 271,
      "metadata": {
        "id": "HAsGBpvTFbby"
      },
      "outputs": [],
      "source": [
        "arabic_stopwords = nltk.corpus.stopwords.words(\"arabic\")\n",
        "arabic_diacritics = re.compile(\"\"\"\n",
        "                             ّ    | # Tashdid\n",
        "                             َ    | # Fatha\n",
        "                             ً    | # Tanwin Fath\n",
        "                             ُ    | # Damma\n",
        "                             ٌ    | # Tanwin Damm\n",
        "                             ِ    | # Kasra\n",
        "                             ٍ    | # Tanwin Kasr\n",
        "                             ْ    | # Sukun\n",
        "                             ـ     # Tatwil/Kashida\n",
        "                         \"\"\", re.VERBOSE)\n",
        "def preprocess(text):\n",
        "    tweet = re.sub(r'[^\\w\\s]', ' ', text)\n",
        "    tweet = re.sub(r'\\w*_\\w*', '', tweet)\n",
        "    tweet = re.sub(r'http\\S+', '',tweet)\n",
        "    tweet = re.sub(r'ة\\s','ه ' ,tweet)\n",
        "    tweet = re.sub(r\"أ\", \"ا\", tweet)\n",
        "    tweet = re.sub(r\"آ\", \"ا\", tweet)\n",
        "    tweet = re.sub(r\"إ\", \"ا\", tweet)\n",
        "    tweet = re.sub(r\"ى\", \"ي\", tweet)\n",
        "    tweet = re.sub(r\"اللة\", \"الله\", tweet)\n",
        "    tweet = re.sub(arabic_diacritics,\"\", tweet)\n",
        "    tweet = re.sub(r'^\\w\\s', ' ', tweet)\n",
        "    tweet = re.sub(r'[A-Za-z]', ' ', tweet)\n",
        "    tweet = re.sub(r'[<LF>#]', ' ',tweet)\n",
        "    tweet = re.sub(r'\\d', '',tweet)\n",
        "    tweet = ' '.join([word for word in tweet.split() if word not in arabic_stopwords])\n",
        "    return tweet"
      ]
    },
    {
      "cell_type": "code",
      "execution_count": 272,
      "metadata": {},
      "outputs": [],
      "source": [
        "train_data = pd.read_csv(\"train.csv\")\n",
        "dev_data = pd.read_csv(\"dev.csv\")"
      ]
    },
    {
      "cell_type": "code",
      "execution_count": 273,
      "metadata": {},
      "outputs": [],
      "source": [
        "train_c = np.array(train_data['category'].tolist())\n",
        "train_s = np.array(train_data['stance'].tolist())\n",
        "train_t = np.array(train_data['text'].tolist())\n",
        "\n",
        "tmp_neg = train_data[train_data['stance']==-1].sample(400,random_state=42,replace=True)\n",
        "tmp_neu = train_data[train_data['stance']==0].sample(500,random_state=42,replace=True)\n",
        "tmp_pos = train_data[train_data['stance']==1].sample(950,random_state=42,replace=True)\n",
        "\n",
        "train_data = pd.concat([tmp_neg,tmp_neu,tmp_pos])\n",
        "#train_data = train_data.sample(frac=1)"
      ]
    },
    {
      "cell_type": "code",
      "execution_count": 274,
      "metadata": {
        "id": "_EzrifTHFbb0"
      },
      "outputs": [],
      "source": [
        "train_category= np.array(train_data['category'].tolist())\n",
        "train_stance=np.array(train_data['stance'].tolist())\n",
        "train_text = np.array(train_data['text'].tolist())\n",
        "\n",
        "for i in range(len(train_text)):\n",
        "    train_text[i] = preprocess(train_text[i])\n",
        "\n",
        "dev_category= np.array(dev_data['category'].tolist())\n",
        "dev_stance=np.array(dev_data['stance'].tolist())\n",
        "dev_text = np.array(dev_data['text'].tolist())\n",
        "\n",
        "for i in range(len(dev_text)):\n",
        "    dev_text[i] = preprocess(dev_text[i])"
      ]
    },
    {
      "cell_type": "code",
      "execution_count": 275,
      "metadata": {},
      "outputs": [],
      "source": [
        "# the Bag of Words features\n",
        "tokenized_data=[]\n",
        "for i in train_text:\n",
        "    tokenized_data.append( nltk.tokenize.wordpunct_tokenize(i))\n",
        "\n",
        "word2count = {} # it is the vocab \n",
        "for sent in tokenized_data:\n",
        "\tfor word in sent:\n",
        "\t\tif word not in word2count.keys():\n",
        "\t\t\tword2count[word] = 1\n",
        "\t\telse:\n",
        "\t\t\tword2count[word] += 1\n",
        "vocabsize=len(word2count.keys())"
      ]
    },
    {
      "cell_type": "code",
      "execution_count": 276,
      "metadata": {},
      "outputs": [],
      "source": [
        "vocab_size = len(word2count.keys())\n",
        "id2word = {i: word for i, word in enumerate(list(word2count.keys()))}\n",
        "id2word[vocab_size]=\"pad\"\n",
        "id2word[vocab_size+1]=\"unk\"\n",
        "vocab_size+=2\n",
        "word2id = {word: i for i, word in id2word.items()}"
      ]
    },
    {
      "cell_type": "code",
      "execution_count": 277,
      "metadata": {},
      "outputs": [
        {
          "name": "stdout",
          "output_type": "stream",
          "text": [
            "46\n",
            "['الفيروس', 'تحور', 'واصبح', 'اكثر', 'ذكاء', 'طبيعي', 'فمهمته', 'ان', 'يعيش', 'ودائما', 'سينجح', 'الانسان', 'البشري', 'يتحور', 'ومازال', 'يعتقد', 'بان', 'التطعيم', 'سيفيد', 'وكل', 'سنه', 'تطعيم', 'جديد', 'وكل', 'مافيروس', 'جديد', 'يظهر', 'يخترعوا', 'تطعيم', 'وهكذا', 'طب', 'مالاسهل', 'نقوي', 'المناعه', 'وهي', 'تقوم', 'باللازم', 'ةنظام', 'تغذيه', 'وفيتامينات', 'وحياه', 'صحيه', 'عالم', 'مجانين', 'اقسم', 'بالله']\n"
          ]
        }
      ],
      "source": [
        "print(len(max(train_text, key=len).split()))\n",
        "print(max(train_text, key=len).split())"
      ]
    },
    {
      "cell_type": "code",
      "execution_count": 278,
      "metadata": {
        "colab": {
          "base_uri": "https://localhost:8080/"
        },
        "id": "pe3Zq7WJMMMO",
        "outputId": "a87802ad-ae7b-4a49-9273-dc3bd7ef1317"
      },
      "outputs": [
        {
          "name": "stdout",
          "output_type": "stream",
          "text": [
            "46\n",
            "46\n"
          ]
        }
      ],
      "source": [
        "train_paded=list(train_text)\n",
        "length = len(str(max(train_paded, key=len)).split())\n",
        "\n",
        "print(len(max(train_paded, key=len).split()))\n",
        "for i in range(len(train_paded)):\n",
        "    train_paded[i]=train_paded[i].split()+[\"pad\" for v in range(length-len(train_paded[i].split()))]\n",
        "train_paded = np.array(train_paded)\n",
        "\n",
        "print(len(max(train_paded, key=len)))\n",
        "\n",
        "test_paded= list(dev_text)\n",
        "for i in range(len(test_paded)):\n",
        "    test_paded[i]=str(test_paded[i]).split()+[\"pad\" for v in range(length-len(str(test_paded[i]).split()))]\n",
        "test_paded = np.array(test_paded)\n",
        "\n"
      ]
    },
    {
      "cell_type": "code",
      "execution_count": 279,
      "metadata": {},
      "outputs": [
        {
          "name": "stdout",
          "output_type": "stream",
          "text": [
            "10273\n"
          ]
        }
      ],
      "source": [
        "print(vocab_size)"
      ]
    },
    {
      "cell_type": "code",
      "execution_count": 280,
      "metadata": {},
      "outputs": [],
      "source": [
        "train_ided=[[]for i in range(len(train_paded))]\n",
        "for i in range(len(train_paded)):\n",
        "    for word in train_paded[i]:\n",
        "        train_ided[i].append(word2id[word])\n",
        "\n",
        "test_ided=[[]for i in range(len(test_paded))]\n",
        "for i in range(len(test_paded)):\n",
        "    for word in test_paded[i]:\n",
        "        if(word in word2id.keys()):\n",
        "            test_ided[i].append(word2id[word])\n",
        "        else:\n",
        "            test_ided[i].append(word2id[\"unk\"])\n",
        "\n"
      ]
    },
    {
      "cell_type": "code",
      "execution_count": 281,
      "metadata": {
        "id": "X6o2fiBBFbb2"
      },
      "outputs": [],
      "source": [
        "class textDataset_stan(torch.utils.data.Dataset):\n",
        "\n",
        "  def __init__(self, data,stnc,vocsize):\n",
        "    \"\"\"\n",
        "    This is the constructor of the NERDataset\n",
        "    Inputs:\n",
        "    - x: a list of lists where each list contains the ids of the tokens\n",
        "    - y: a list of lists where each list contains the label of each token in the sentence\n",
        "    - pad: the id of the <PAD> token (to be used for padding all sentences and labels to have the same length)\n",
        "    \"\"\"\n",
        "    ##################### TODO: create two tensors one for x and the other for labels ###############################\n",
        "    #pass\n",
        "    self.tens_data = torch.tensor(data)\n",
        "    self.tens_stance = torch.tensor(stnc)\n",
        "    self.vocab_size = vocsize\n",
        "\n",
        "    #################################################################################################################\n",
        "\n",
        "  def __len__(self):\n",
        "    \"\"\"\n",
        "    This function should return the length of the dataset (the number of sentences)\n",
        "    \"\"\"\n",
        "    ###################### TODO: return the length of the dataset #############################\n",
        "    #pass\n",
        "    return self.tens_data.shape[0]\n",
        "    ###########################################################################################\n",
        "\n",
        "  def __getitem__(self, idx):\n",
        "    \"\"\"\n",
        "    This function returns a subset of the whole dataset\n",
        "    \"\"\"\n",
        "    ###################### TODO: return a tuple of x and y ###################################\n",
        "    #pass\n",
        "    return self.tens_data[idx],self.tens_stance[idx]\n",
        "    ##########################################################################################"
      ]
    },
    {
      "cell_type": "code",
      "execution_count": 282,
      "metadata": {
        "id": "lz7UyBHuFBJB"
      },
      "outputs": [],
      "source": [
        "class stansize(nn.Module):\n",
        "  def __init__(self, vocab_size, embedding_dim=7000, hidden_size=80, n_classes=3):\n",
        "    \"\"\"\n",
        "    The constructor of our NER model\n",
        "    Inputs:\n",
        "    - vacab_size: the number of unique words\n",
        "    - embedding_dim: the embedding dimension\n",
        "    - n_classes: the number of final classes (tags)\n",
        "    \"\"\"\n",
        "    super(stansize, self).__init__()\n",
        "    ####################### TODO: Create the layers of your model #######################################\n",
        "    # (1) Create the embedding layer\n",
        "    self.embedding = nn.Embedding(vocab_size,embedding_dim)\n",
        "\n",
        "    # (2) Create an LSTM layer with hidden size = hidden_size and batch_first = True\n",
        "    self.lstm = nn.LSTM(embedding_dim,hidden_size,1,batch_first=True)\n",
        "\n",
        "    # (3) Create a linear layer with number of neorons = n_classes\n",
        "    self.linear = nn.Linear(hidden_size,n_classes)\n",
        "\n",
        "\n",
        "    #####################################################################################################\n",
        "\n",
        "  def forward(self, sentences):\n",
        "    \"\"\"\n",
        "    This function does the forward pass of our model\n",
        "    Inputs:\n",
        "    - sentences: tensor of shape (batch_size, max_length)\n",
        "\n",
        "    Returns:\n",
        "    - final_output: tensor of shape (batch_size, max_length, n_classes)\n",
        "    \"\"\"\n",
        "    ######################### TODO: implement the forward pass ####################################\n",
        "    emb_out= self.embedding(sentences)\n",
        "    lstm_out,_= self.lstm(emb_out)\n",
        "    final_output = self.linear(lstm_out)\n",
        "\n",
        "    ###############################################################################################\n",
        "    return final_output\n",
        "\n",
        "    # tweet(92) -> anhy stance"
      ]
    },
    {
      "cell_type": "code",
      "execution_count": 283,
      "metadata": {
        "colab": {
          "base_uri": "https://localhost:8080/"
        },
        "id": "-SStQgW0Gc08",
        "outputId": "2f3f9f34-9196-44da-edc8-8b9f8c23c4dc"
      },
      "outputs": [
        {
          "name": "stdout",
          "output_type": "stream",
          "text": [
            "stansize(\n",
            "  (embedding): Embedding(10273, 7000)\n",
            "  (lstm): LSTM(7000, 80, batch_first=True)\n",
            "  (linear): Linear(in_features=80, out_features=3, bias=True)\n",
            ")\n"
          ]
        }
      ],
      "source": [
        "model = stansize(vocab_size=vocab_size)\n",
        "print(model)"
      ]
    },
    {
      "cell_type": "code",
      "execution_count": 284,
      "metadata": {
        "id": "xpZhejCTGp3B"
      },
      "outputs": [],
      "source": [
        "def train_stan(model, train_dataset, batch_size=512, epochs=5, learning_rate=0.1):\n",
        "  \"\"\"\n",
        "  This function implements the training logic\n",
        "  Inputs:\n",
        "  - model: the model ot be trained\n",
        "  - train_dataset: the training set of type NERDataset\n",
        "  - batch_size: integer represents the number of examples per step\n",
        "  - epochs: integer represents the total number of epochs (full training pass)\n",
        "  - learning_rate: the learning rate to be used by the optimizer\n",
        "  \"\"\"\n",
        "\n",
        "  ############################## TODO: replace the Nones in the following code ##################################\n",
        "  \n",
        "  # (1) create the dataloader of the training set (make the shuffle=True)\n",
        "  train_dataloader = torch.utils.data.DataLoader(train_dataset, batch_size=batch_size, shuffle=True)\n",
        "\n",
        "  # (2) make the criterion cross entropy loss\n",
        "  criterion = nn.CrossEntropyLoss()\n",
        "\n",
        "  # (3) create the optimizer (Adam)\n",
        "  optimizer = torch.optim.Adam(model.parameters(),learning_rate)\n",
        "\n",
        "  # GPU configuration\n",
        "  use_cuda = torch.cuda.is_available()\n",
        "  device = torch.device(\"cuda\" if use_cuda else \"cpu\")\n",
        "  if use_cuda:\n",
        "    model = model.cuda()\n",
        "    criterion = criterion.cuda()\n",
        "\n",
        "  for epoch_num in range(epochs):\n",
        "    total_acc_train = 0\n",
        "    total_loss_train = 0\n",
        "\n",
        "    for train_input, train_label in tqdm(train_dataloader):\n",
        "\n",
        "      # (4) move the train input to the device\n",
        "      # we are moving train label\n",
        "      train_label = train_label.to(device)\n",
        "\n",
        "      # (5) move the train label to the device\n",
        "      # we are moving train input\n",
        "      train_input = train_input.to(device)\n",
        "\n",
        "      # (6) do the forward pass\n",
        "      output = model.forward(train_input)\n",
        "      \n",
        "      # (7) loss calculation (you need to think in this part how to calculate the loss correctly)\n",
        "      size=output.shape\n",
        "      out2 = output[: ,-1 ,:]\n",
        "      #print(out2.shape)\n",
        "      #print(train_label.shape)\n",
        "      batch_loss = criterion(out2,train_label)\n",
        "\n",
        "      # (8) append the batch loss to the total_loss_train\n",
        "      total_loss_train += batch_loss\n",
        "      #print(train_label.shape)\n",
        "      # (9) calculate the batch accuracy (just add the number of correct predictions)\n",
        "      acc = float((torch.argmax(out2,dim=1) == train_label).sum())\n",
        "      #print(torch.argmax(out2,dim=1))\n",
        "      #print(train_label)\n",
        "      #print(float((torch.argmax(out2,dim=1) == train_label).sum()))\n",
        "      total_acc_train += acc\n",
        "\n",
        "      # (10) zero your gradients\n",
        "      optimizer.zero_grad()\n",
        "\n",
        "      # (11) do the backward pass\n",
        "      batch_loss.backward()\n",
        "\n",
        "      nn.utils.clip_grad_norm(model.parameters(),max_norm=1)\n",
        "\n",
        "      # (12) update the weights with your optimizer\n",
        "      optimizer.step()\n",
        "\n",
        "      \n",
        "    # epoch loss\n",
        "    epoch_loss = total_loss_train / len(train_dataset)\n",
        "\n",
        "    # (13) calculate the accuracy\n",
        "    size = train_dataset.tens_data.shape\n",
        "    epoch_acc = total_acc_train / (size[0])\n",
        "\n",
        "    print(\n",
        "        f'Epochs: {epoch_num + 1} | Train Loss: {epoch_loss} \\\n",
        "        | Train Accuracy: {epoch_acc}\\n')\n",
        "\n",
        "  ##############################################################################################################"
      ]
    },
    {
      "cell_type": "code",
      "execution_count": 285,
      "metadata": {
        "colab": {
          "base_uri": "https://localhost:8080/",
          "height": 328
        },
        "id": "A9SqNiKjMx8U",
        "outputId": "e2aadfd8-bf2a-4aec-ca1b-1cea15b791c1"
      },
      "outputs": [
        {
          "name": "stderr",
          "output_type": "stream",
          "text": [
            "  0%|          | 0/4 [00:00<?, ?it/s]<ipython-input-284-a4b283cc28d1>:70: UserWarning: torch.nn.utils.clip_grad_norm is now deprecated in favor of torch.nn.utils.clip_grad_norm_.\n",
            "  nn.utils.clip_grad_norm(model.parameters(),max_norm=1)\n",
            "100%|██████████| 4/4 [00:11<00:00,  2.83s/it]\n",
            "  0%|          | 0/4 [00:00<?, ?it/s]"
          ]
        },
        {
          "name": "stdout",
          "output_type": "stream",
          "text": [
            "Epochs: 1 | Train Loss: 0.0035813760478049517         | Train Accuracy: 0.3762162162162162\n",
            "\n"
          ]
        },
        {
          "name": "stderr",
          "output_type": "stream",
          "text": [
            "100%|██████████| 4/4 [00:18<00:00,  4.60s/it]\n",
            "  0%|          | 0/4 [00:00<?, ?it/s]"
          ]
        },
        {
          "name": "stdout",
          "output_type": "stream",
          "text": [
            "Epochs: 2 | Train Loss: 0.0032055045012384653         | Train Accuracy: 0.4097297297297297\n",
            "\n"
          ]
        },
        {
          "name": "stderr",
          "output_type": "stream",
          "text": [
            "100%|██████████| 4/4 [00:20<00:00,  5.18s/it]\n",
            "  0%|          | 0/4 [00:00<?, ?it/s]"
          ]
        },
        {
          "name": "stdout",
          "output_type": "stream",
          "text": [
            "Epochs: 3 | Train Loss: 0.0026587413158267736         | Train Accuracy: 0.4918918918918919\n",
            "\n"
          ]
        },
        {
          "name": "stderr",
          "output_type": "stream",
          "text": [
            "100%|██████████| 4/4 [00:20<00:00,  5.25s/it]\n",
            "  0%|          | 0/4 [00:00<?, ?it/s]"
          ]
        },
        {
          "name": "stdout",
          "output_type": "stream",
          "text": [
            "Epochs: 4 | Train Loss: 0.0022890984546393156         | Train Accuracy: 0.5572972972972973\n",
            "\n"
          ]
        },
        {
          "name": "stderr",
          "output_type": "stream",
          "text": [
            "100%|██████████| 4/4 [00:20<00:00,  5.06s/it]"
          ]
        },
        {
          "name": "stdout",
          "output_type": "stream",
          "text": [
            "Epochs: 5 | Train Loss: 0.0020261467434465885         | Train Accuracy: 0.6145945945945946\n",
            "\n"
          ]
        },
        {
          "name": "stderr",
          "output_type": "stream",
          "text": [
            "\n"
          ]
        }
      ],
      "source": [
        "train_dataset_stan = textDataset_stan(train_ided,(train_stance+1).astype(np.longlong),vocsize=vocab_size)\n",
        "\n",
        "train_stan(model, train_dataset_stan)"
      ]
    },
    {
      "cell_type": "code",
      "execution_count": 286,
      "metadata": {},
      "outputs": [],
      "source": [
        "def evaluate_stan(model, test_dataset, batch_size=512):\n",
        "  \"\"\"\n",
        "  This function takes a NER model and evaluates its performance (accuracy) on a test data\n",
        "  Inputs:\n",
        "  - model: a NER model\n",
        "  - test_dataset: dataset of type NERDataset\n",
        "  \"\"\"\n",
        "  ########################### TODO: Replace the Nones in the following code ##########################\n",
        "\n",
        "  # (1) create the test data loader\n",
        "  test_dataloader = torch.utils.data.DataLoader(test_dataset,batch_size=batch_size)\n",
        "\n",
        "  # GPU Configuration\n",
        "  use_cuda = torch.cuda.is_available()\n",
        "  device = torch.device(\"cuda\" if use_cuda else \"cpu\")\n",
        "  if use_cuda:\n",
        "    model = model.cuda()\n",
        "\n",
        "  total_acc_test = 0\n",
        "  \n",
        "  # (2) disable gradients\n",
        "  with torch.no_grad():\n",
        "\n",
        "    for test_input, test_label in tqdm(test_dataloader):\n",
        "      # (3) move the test input to the device\n",
        "      # we are moving test label\n",
        "      test_label = test_label.to(device)\n",
        "\n",
        "      # (4) move the test label to the device\n",
        "      # we are moving test input\n",
        "      test_input = test_input.to(device)\n",
        "\n",
        "      # (5) do the forward pass\n",
        "      output = model.forward(test_input)\n",
        "      out2 = output[: ,-1 ,:]\n",
        "\n",
        "      #print(torch.argmax(out2,dim=1)-1)\n",
        "      #print(test_label-1)\n",
        "      confusion_matrix = metrics.confusion_matrix(test_label,torch.argmax(out2,dim=1))\n",
        "      cm_df = pd.DataFrame(confusion_matrix)\n",
        "                     #,index = ['0','1','2','3','4','5','6','7','8','9'], \n",
        "                     #columns = ['0','1','2','3','4','5','6','7','8','9'])\n",
        "      plt.figure(figsize=(5,4))\n",
        "      sns.heatmap(cm_df, annot=True)\n",
        "      plt.title('Confusion Matrix')\n",
        "      plt.ylabel('Actal Values')\n",
        "      plt.xlabel('Predicted Values')\n",
        "      plt.show()\n",
        "      print(metrics.f1_score(test_label,torch.argmax(out2,dim=1),  average=\"macro\"))\n",
        "\n",
        "\n",
        "      # accuracy calculation (just add the correct predicted items to total_acc_test)\n",
        "      acc = float((torch.argmax(out2,dim=1) == test_label).sum())\n",
        "      \n",
        "      #print(torch.argmax(out2,dim=1))\n",
        "      #print(test_label)\n",
        "      total_acc_test += acc\n",
        "    \n",
        "    # (6) calculate the over all accuracy\n",
        "    size = test_dataset.tens_data.shape\n",
        "    total_acc_test /= size[0]\n",
        "  ##################################################################################################\n",
        "\n",
        "  \n",
        "  print(f'\\nTest Accuracy: {total_acc_test}')"
      ]
    },
    {
      "cell_type": "code",
      "execution_count": 287,
      "metadata": {},
      "outputs": [
        {
          "name": "stderr",
          "output_type": "stream",
          "text": [
            "  0%|          | 0/2 [00:00<?, ?it/s]"
          ]
        },
        {
          "data": {
            "image/png": "[encoded data removed]",
            "text/plain": [
              "<Figure size 360x288 with 2 Axes>"
            ]
          },
          "metadata": {
            "needs_background": "light"
          },
          "output_type": "display_data"
        },
        {
          "name": "stderr",
          "output_type": "stream",
          "text": [
            " 50%|█████     | 1/2 [00:00<00:00,  1.10it/s]"
          ]
        },
        {
          "name": "stdout",
          "output_type": "stream",
          "text": [
            "0.34341998581129013\n"
          ]
        },
        {
          "data": {
            "image/png": "[encoded data removed]",
            "text/plain": [
              "<Figure size 360x288 with 2 Axes>"
            ]
          },
          "metadata": {
            "needs_background": "light"
          },
          "output_type": "display_data"
        },
        {
          "name": "stderr",
          "output_type": "stream",
          "text": [
            "100%|██████████| 2/2 [00:01<00:00,  1.08it/s]"
          ]
        },
        {
          "name": "stdout",
          "output_type": "stream",
          "text": [
            "0.3599442322846578\n",
            "\n",
            "Test Accuracy: 0.763\n"
          ]
        },
        {
          "name": "stderr",
          "output_type": "stream",
          "text": [
            "\n"
          ]
        }
      ],
      "source": [
        "test_dataset_stan = textDataset_stan(test_ided,(dev_stance+1).astype(np.longlong),vocsize=vocab_size)\n",
        "evaluate_stan(model, test_dataset_stan)"
      ]
    },
    {
      "cell_type": "code",
      "execution_count": 386,
      "metadata": {},
      "outputs": [],
      "source": [
        "train_data = pd.read_csv(\"train.csv\")\n",
        "dev_data = pd.read_csv(\"dev.csv\")"
      ]
    },
    {
      "cell_type": "code",
      "execution_count": 387,
      "metadata": {},
      "outputs": [
        {
          "name": "stdout",
          "output_type": "stream",
          "text": [
            "18\n",
            "606\n",
            "67\n",
            "3616\n",
            "975\n",
            "112\n",
            "1025\n",
            "167\n",
            "79\n",
            "323\n"
          ]
        }
      ],
      "source": [
        "tmp_c0 = train_data[train_data['category']==\"restrictions\"]\n",
        "tmp_c1 = train_data[train_data['category']==\"plan\"]\n",
        "tmp_c2 = train_data[train_data['category']==\"advice\"]\n",
        "tmp_c3 = train_data[train_data['category']==\"info_news\"]\n",
        "tmp_c4 = train_data[train_data['category']==\"celebrity\"]\n",
        "tmp_c5 = train_data[train_data['category']==\"requests\"]\n",
        "tmp_c6 = train_data[train_data['category']==\"personal\"]\n",
        "tmp_c7 = train_data[train_data['category']==\"others\"]\n",
        "tmp_c8 = train_data[train_data['category']==\"rumors\"]\n",
        "tmp_c9 = train_data[train_data['category']==\"unrelated\"]\n",
        "\n",
        "print(len(tmp_c0))\n",
        "print(len(tmp_c1))\n",
        "print(len(tmp_c2))\n",
        "print(len(tmp_c3))\n",
        "print(len(tmp_c4))\n",
        "print(len(tmp_c5))\n",
        "print(len(tmp_c6))\n",
        "print(len(tmp_c7))\n",
        "print(len(tmp_c8))\n",
        "print(len(tmp_c9))"
      ]
    },
    {
      "cell_type": "code",
      "execution_count": 388,
      "metadata": {},
      "outputs": [],
      "source": [
        "tmp_c0 = train_data[train_data['category']==\"restrictions\"].sample(18)\n",
        "tmp_c1 = train_data[train_data['category']==\"plan\"].sample(606)\n",
        "tmp_c2 = train_data[train_data['category']==\"advice\"].sample(67)\n",
        "tmp_c3 = train_data[train_data['category']==\"info_news\"].sample(1400)\n",
        "tmp_c4 = train_data[train_data['category']==\"celebrity\"].sample(975)\n",
        "tmp_c5 = train_data[train_data['category']==\"requests\"].sample(112)\n",
        "tmp_c6 = train_data[train_data['category']==\"personal\"].sample(1025)\n",
        "tmp_c7 = train_data[train_data['category']==\"others\"].sample(167)\n",
        "tmp_c8 = train_data[train_data['category']==\"rumors\"].sample(79)\n",
        "tmp_c9 = train_data[train_data['category']==\"unrelated\"].sample(323)\n",
        "\n",
        "train_data = pd.concat([tmp_c0,tmp_c1,tmp_c2,tmp_c3,tmp_c4,tmp_c5,tmp_c6,tmp_c7,tmp_c8,tmp_c9]).sort_index()"
      ]
    },
    {
      "cell_type": "code",
      "execution_count": 389,
      "metadata": {},
      "outputs": [
        {
          "name": "stdout",
          "output_type": "stream",
          "text": [
            "4772\n"
          ]
        }
      ],
      "source": [
        "print(len(train_data))"
      ]
    },
    {
      "cell_type": "code",
      "execution_count": 390,
      "metadata": {},
      "outputs": [
        {
          "name": "stdout",
          "output_type": "stream",
          "text": [
            "20688\n",
            "92\n",
            "92\n"
          ]
        }
      ],
      "source": [
        "train_category= np.array(train_data['category'].tolist())\n",
        "train_stance=np.array(train_data['stance'].tolist())\n",
        "train_text = np.array(train_data['text'].tolist())\n",
        "\n",
        "for i in range(len(train_text)):\n",
        "    train_text[i] = preprocess(train_text[i])\n",
        "\n",
        "dev_category= np.array(dev_data['category'].tolist())\n",
        "dev_stance=np.array(dev_data['stance'].tolist())\n",
        "dev_text = np.array(dev_data['text'].tolist())\n",
        "\n",
        "for i in range(len(dev_text)):\n",
        "    dev_text[i] = preprocess(dev_text[i])\n",
        "    \n",
        "# the Bag of Words features\n",
        "tokenized_data=[]\n",
        "for i in train_text:\n",
        "    tokenized_data.append( nltk.tokenize.wordpunct_tokenize(i))\n",
        "\n",
        "word2count = {} # it is the vocab \n",
        "for sent in tokenized_data:\n",
        "\tfor word in sent:\n",
        "\t\tif word not in word2count.keys():\n",
        "\t\t\tword2count[word] = 1\n",
        "\t\telse:\n",
        "\t\t\tword2count[word] += 1\n",
        "\n",
        "vocab_size = len(word2count.keys())\n",
        "print(vocab_size)\n",
        "id2word = {i: word for i, word in enumerate(list(word2count.keys()))}\n",
        "id2word[vocab_size]=\"pad\"\n",
        "id2word[vocab_size+1]=\"unk\"\n",
        "vocab_size+=2\n",
        "word2id = {word: i for i, word in id2word.items()}\n",
        "train_paded=list(train_text)\n",
        "length = len(str(max(train_paded, key=len)).split())\n",
        "\n",
        "print(len(max(train_paded, key=len).split()))\n",
        "for i in range(len(train_paded)):\n",
        "    train_paded[i]=train_paded[i].split()+[\"pad\" for v in range(length-len(train_paded[i].split()))]\n",
        "train_paded = np.array(train_paded)\n",
        "\n",
        "print(len(max(train_paded, key=len)))\n",
        "\n",
        "test_paded= list(dev_text)\n",
        "for i in range(len(test_paded)):\n",
        "    test_paded[i]=str(test_paded[i]).split()+[\"pad\" for v in range(length-len(str(test_paded[i]).split()))]\n",
        "test_paded = np.array(test_paded)\n",
        "\n",
        "\n",
        "train_ided=[[]for i in range(len(train_paded))]\n",
        "for i in range(len(train_paded)):\n",
        "    for word in train_paded[i]:\n",
        "        train_ided[i].append(word2id[word])\n",
        "\n",
        "test_ided=[[]for i in range(len(test_paded))]\n",
        "for i in range(len(test_paded)):\n",
        "    for word in test_paded[i]:\n",
        "        if(word in word2id.keys()):\n",
        "            test_ided[i].append(word2id[word])\n",
        "        else:\n",
        "            test_ided[i].append(word2id[\"unk\"])\n",
        "\n"
      ]
    },
    {
      "cell_type": "code",
      "execution_count": 391,
      "metadata": {},
      "outputs": [],
      "source": [
        "class textDataset_cat(torch.utils.data.Dataset):\n",
        "\n",
        "  def __init__(self, data,cat,vocsize):\n",
        "    \"\"\"\n",
        "    This is the constructor of the NERDataset\n",
        "    Inputs:\n",
        "    - x: a list of lists where each list contains the ids of the tokens\n",
        "    - y: a list of lists where each list contains the label of each token in the sentence\n",
        "    - pad: the id of the <PAD> token (to be used for padding all sentences and labels to have the same length)\n",
        "    \"\"\"\n",
        "    ##################### TODO: create two tensors one for x and the other for labels ###############################\n",
        "    #pass\n",
        "    self.tens_data = torch.tensor(data)\n",
        "    self.tens_cat = torch.tensor(cat)\n",
        "    self.vocab_size = vocsize\n",
        "\n",
        "    #################################################################################################################\n",
        "\n",
        "  def __len__(self):\n",
        "    \"\"\"\n",
        "    This function should return the length of the dataset (the number of sentences)\n",
        "    \"\"\"\n",
        "    ###################### TODO: return the length of the dataset #############################\n",
        "    #pass\n",
        "    return self.tens_data.shape[0]\n",
        "    ###########################################################################################\n",
        "\n",
        "  def __getitem__(self, idx):\n",
        "    \"\"\"\n",
        "    This function returns a subset of the whole dataset\n",
        "    \"\"\"\n",
        "    ###################### TODO: return a tuple of x and y ###################################\n",
        "    #pass\n",
        "    return self.tens_data[idx],self.tens_cat[idx]\n",
        "    ##########################################################################################"
      ]
    },
    {
      "cell_type": "code",
      "execution_count": 392,
      "metadata": {},
      "outputs": [],
      "source": [
        "class categorize(nn.Module):\n",
        "  def __init__(self, vocab_size, embedding_dim=7000, hidden_size=80, n_classes=10):\n",
        "    \"\"\"\n",
        "    The constructor of our NER model\n",
        "    Inputs:\n",
        "    - vacab_size: the number of unique words\n",
        "    - embedding_dim: the embedding dimension\n",
        "    - n_classes: the number of final classes (tags)\n",
        "    \"\"\"\n",
        "    super(categorize, self).__init__()\n",
        "    ####################### TODO: Create the layers of your model #######################################\n",
        "    # (1) Create the embedding layer\n",
        "    self.embedding = nn.Embedding(vocab_size,embedding_dim)\n",
        "\n",
        "    # (2) Create an LSTM layer with hidden size = hidden_size and batch_first = True\n",
        "    self.lstm = nn.LSTM(embedding_dim,hidden_size,1,batch_first=True)\n",
        "\n",
        "    # (3) Create a linear layer with number of neorons = n_classes\n",
        "    self.linear = nn.Linear(hidden_size,n_classes)\n",
        "\n",
        "\n",
        "    #####################################################################################################\n",
        "\n",
        "  def forward(self, sentences):\n",
        "    \"\"\"\n",
        "    This function does the forward pass of our model\n",
        "    Inputs:\n",
        "    - sentences: tensor of shape (batch_size, max_length)\n",
        "\n",
        "    Returns:\n",
        "    - final_output: tensor of shape (batch_size, max_length, n_classes)\n",
        "    \"\"\"\n",
        "    ######################### TODO: implement the forward pass ####################################\n",
        "    emb_out= self.embedding(sentences)\n",
        "    lstm_out,_= self.lstm(emb_out)\n",
        "    final_output = self.linear(lstm_out)\n",
        "\n",
        "    ###############################################################################################\n",
        "    return final_output\n",
        "\n",
        "    # tweet(92) -> anhy stance"
      ]
    },
    {
      "cell_type": "code",
      "execution_count": 393,
      "metadata": {},
      "outputs": [
        {
          "name": "stdout",
          "output_type": "stream",
          "text": [
            "categorize(\n",
            "  (embedding): Embedding(20690, 7000)\n",
            "  (lstm): LSTM(7000, 80, batch_first=True)\n",
            "  (linear): Linear(in_features=80, out_features=10, bias=True)\n",
            ")\n"
          ]
        }
      ],
      "source": [
        "model = categorize(vocab_size=vocab_size)\n",
        "print(model)"
      ]
    },
    {
      "cell_type": "code",
      "execution_count": 394,
      "metadata": {},
      "outputs": [],
      "source": [
        "def train_cat(model, train_dataset, batch_size=512, epochs=5, learning_rate=0.1):\n",
        "  \"\"\"\n",
        "  This function implements the training logic\n",
        "  Inputs:\n",
        "  - model: the model ot be trained\n",
        "  - train_dataset: the training set of type NERDataset\n",
        "  - batch_size: integer represents the number of examples per step\n",
        "  - epochs: integer represents the total number of epochs (full training pass)\n",
        "  - learning_rate: the learning rate to be used by the optimizer\n",
        "  \"\"\"\n",
        "\n",
        "  ############################## TODO: replace the Nones in the following code ##################################\n",
        "  \n",
        "  # (1) create the dataloader of the training set (make the shuffle=True)\n",
        "  train_dataloader = torch.utils.data.DataLoader(train_dataset, batch_size=batch_size, shuffle=True)\n",
        "\n",
        "  # (2) make the criterion cross entropy loss\n",
        "  criterion = nn.CrossEntropyLoss()\n",
        "\n",
        "  # (3) create the optimizer (Adam)\n",
        "  optimizer = torch.optim.Adam(model.parameters(),learning_rate)\n",
        "\n",
        "  # GPU configuration\n",
        "  use_cuda = torch.cuda.is_available()\n",
        "  device = torch.device(\"cuda\" if use_cuda else \"cpu\")\n",
        "  if use_cuda:\n",
        "    model = model.cuda()\n",
        "    criterion = criterion.cuda()\n",
        "\n",
        "  for epoch_num in range(epochs):\n",
        "    total_acc_train = 0\n",
        "    total_loss_train = 0\n",
        "\n",
        "    for train_input, train_label in tqdm(train_dataloader):\n",
        "\n",
        "      # (4) move the train input to the device\n",
        "      # we are moving train label\n",
        "      train_label = train_label.to(device)\n",
        "\n",
        "      # (5) move the train label to the device\n",
        "      # we are moving train input\n",
        "      train_input = train_input.to(device)\n",
        "\n",
        "      # (6) do the forward pass\n",
        "      output = model.forward(train_input)\n",
        "      \n",
        "      # (7) loss calculation (you need to think in this part how to calculate the loss correctly)\n",
        "      size=output.shape\n",
        "      out2 = output[: ,-1 ,:]\n",
        "      #print(out2.shape)\n",
        "      #print(train_label.shape)\n",
        "      batch_loss = criterion(out2,train_label)\n",
        "\n",
        "      # (8) append the batch loss to the total_loss_train\n",
        "      total_loss_train += batch_loss\n",
        "      #print(train_label.shape)\n",
        "      # (9) calculate the batch accuracy (just add the number of correct predictions)\n",
        "      acc = float((torch.argmax(out2,dim=1) == train_label).sum())\n",
        "      #print(torch.argmax(out2,dim=1))\n",
        "      #print(train_label)\n",
        "      #print(float((torch.argmax(out2,dim=1) == train_label).sum()))\n",
        "      total_acc_train += acc\n",
        "\n",
        "      # (10) zero your gradients\n",
        "      optimizer.zero_grad()\n",
        "\n",
        "      # (11) do the backward pass\n",
        "      batch_loss.backward()\n",
        "\n",
        "      nn.utils.clip_grad_norm(model.parameters(),max_norm=1)\n",
        "\n",
        "      # (12) update the weights with your optimizer\n",
        "      optimizer.step()\n",
        "\n",
        "      \n",
        "    # epoch loss\n",
        "    epoch_loss = total_loss_train / len(train_dataset)\n",
        "\n",
        "    # (13) calculate the accuracy\n",
        "    size = train_dataset.tens_data.shape\n",
        "    epoch_acc = total_acc_train / (size[0])\n",
        "\n",
        "    print(\n",
        "        f'Epochs: {epoch_num + 1} | Train Loss: {epoch_loss} \\\n",
        "        | Train Accuracy: {epoch_acc}\\n')\n",
        "\n",
        "  ##############################################################################################################"
      ]
    },
    {
      "cell_type": "code",
      "execution_count": 395,
      "metadata": {},
      "outputs": [],
      "source": [
        "from sklearn import preprocessing\n",
        "le = preprocessing.LabelEncoder()\n",
        "le.fit(train_category)\n",
        "train_category = le.transform(train_category)\n",
        "\n",
        "le = preprocessing.LabelEncoder()\n",
        "le.fit(dev_category)\n",
        "dev_category = le.transform(dev_category)\n"
      ]
    },
    {
      "cell_type": "code",
      "execution_count": 396,
      "metadata": {},
      "outputs": [
        {
          "name": "stderr",
          "output_type": "stream",
          "text": [
            "  0%|          | 0/10 [00:00<?, ?it/s]<ipython-input-394-3f545015b7cb>:70: UserWarning: torch.nn.utils.clip_grad_norm is now deprecated in favor of torch.nn.utils.clip_grad_norm_.\n",
            "  nn.utils.clip_grad_norm(model.parameters(),max_norm=1)\n",
            "100%|██████████| 10/10 [01:15<00:00,  7.52s/it]\n",
            "  0%|          | 0/10 [00:00<?, ?it/s]"
          ]
        },
        {
          "name": "stdout",
          "output_type": "stream",
          "text": [
            "Epochs: 1 | Train Loss: 0.004503895528614521         | Train Accuracy: 0.20033528918692373\n",
            "\n"
          ]
        },
        {
          "name": "stderr",
          "output_type": "stream",
          "text": [
            "100%|██████████| 10/10 [01:34<00:00,  9.46s/it]\n",
            "  0%|          | 0/10 [00:00<?, ?it/s]"
          ]
        },
        {
          "name": "stdout",
          "output_type": "stream",
          "text": [
            "Epochs: 2 | Train Loss: 0.003961547743529081         | Train Accuracy: 0.26508801341156746\n",
            "\n"
          ]
        },
        {
          "name": "stderr",
          "output_type": "stream",
          "text": [
            "100%|██████████| 10/10 [01:25<00:00,  8.56s/it]\n",
            "  0%|          | 0/10 [00:00<?, ?it/s]"
          ]
        },
        {
          "name": "stdout",
          "output_type": "stream",
          "text": [
            "Epochs: 3 | Train Loss: 0.003897956805303693         | Train Accuracy: 0.30259849119865884\n",
            "\n"
          ]
        },
        {
          "name": "stderr",
          "output_type": "stream",
          "text": [
            "100%|██████████| 10/10 [01:15<00:00,  7.59s/it]\n",
            "  0%|          | 0/10 [00:00<?, ?it/s]"
          ]
        },
        {
          "name": "stdout",
          "output_type": "stream",
          "text": [
            "Epochs: 4 | Train Loss: 0.0038000966887921095         | Train Accuracy: 0.32523051131601005\n",
            "\n"
          ]
        },
        {
          "name": "stderr",
          "output_type": "stream",
          "text": [
            "100%|██████████| 10/10 [01:04<00:00,  6.41s/it]"
          ]
        },
        {
          "name": "stdout",
          "output_type": "stream",
          "text": [
            "Epochs: 5 | Train Loss: 0.0036939536221325397         | Train Accuracy: 0.3440905280804694\n",
            "\n"
          ]
        },
        {
          "name": "stderr",
          "output_type": "stream",
          "text": [
            "\n"
          ]
        }
      ],
      "source": [
        "train_dataset = textDataset_cat(train_ided,train_category.astype(np.longlong),vocsize=vocab_size)\n",
        "test_dataset = textDataset_cat(test_ided,dev_category.astype(np.longlong),vocsize=vocab_size)\n",
        "train_cat(model, train_dataset)"
      ]
    },
    {
      "cell_type": "code",
      "execution_count": 397,
      "metadata": {},
      "outputs": [],
      "source": [
        "def evaluate_cat(model, test_dataset, batch_size=512):\n",
        "  \"\"\"\n",
        "  This function takes a NER model and evaluates its performance (accuracy) on a test data\n",
        "  Inputs:\n",
        "  - model: a NER model\n",
        "  - test_dataset: dataset of type NERDataset\n",
        "  \"\"\"\n",
        "  ########################### TODO: Replace the Nones in the following code ##########################\n",
        "\n",
        "  # (1) create the test data loader\n",
        "  test_dataloader = torch.utils.data.DataLoader(test_dataset,batch_size=batch_size)\n",
        "\n",
        "  # GPU Configuration\n",
        "  use_cuda = torch.cuda.is_available()\n",
        "  device = torch.device(\"cuda\" if use_cuda else \"cpu\")\n",
        "  if use_cuda:\n",
        "    model = model.cuda()\n",
        "\n",
        "  total_acc_test = 0\n",
        "  o = []\n",
        "  # (2) disable gradients\n",
        "  with torch.no_grad():\n",
        "\n",
        "    for test_input, test_label in tqdm(test_dataloader):\n",
        "      # (3) move the test input to the device\n",
        "      # we are moving test label\n",
        "      test_label = test_label.to(device)\n",
        "\n",
        "      # (4) move the test label to the device\n",
        "      # we are moving test input\n",
        "      test_input = test_input.to(device)\n",
        "\n",
        "      # (5) do the forward pass\n",
        "      output = model.forward(test_input)\n",
        "      out2 = output[: ,-1 ,:]\n",
        "      confusion_matrix = metrics.confusion_matrix(torch.argmax(out2,dim=1), test_label)\n",
        "      cm_df = pd.DataFrame(confusion_matrix)\n",
        "                     #,index = ['0','1','2','3','4','5','6','7','8','9'], \n",
        "                     #columns = ['0','1','2','3','4','5','6','7','8','9'])\n",
        "      plt.figure(figsize=(12,11))\n",
        "      sns.heatmap(cm_df, annot=True)\n",
        "      plt.title('Confusion Matrix')\n",
        "      plt.ylabel('Actal Values')\n",
        "      plt.xlabel('Predicted Values')\n",
        "      plt.show()\n",
        "      print(metrics.f1_score(torch.argmax(out2,dim=1), test_label, average=\"macro\"))\n",
        "\n",
        "\n",
        "\n",
        "      # accuracy calculation (just add the correct predicted items to total_acc_test)\n",
        "      acc = float((torch.argmax(out2,dim=1) == test_label).sum())\n",
        "      #print(torch.argmax(out2,dim=1))\n",
        "      #print(test_label)\n",
        "      total_acc_test += acc\n",
        "    \n",
        "    # (6) calculate the over all accuracy\n",
        "    size = test_dataset.tens_data.shape\n",
        "    total_acc_test /= size[0]\n",
        "    o = torch.argmax(out2,dim=1)\n",
        "  ##################################################################################################\n",
        "\n",
        "  \n",
        "  print(f'\\nTest Accuracy: {total_acc_test}')\n",
        "  return o"
      ]
    },
    {
      "cell_type": "code",
      "execution_count": 398,
      "metadata": {},
      "outputs": [
        {
          "name": "stderr",
          "output_type": "stream",
          "text": [
            "  0%|          | 0/1 [00:00<?, ?it/s]"
          ]
        },
        {
          "data": {
            "image/png": "[encoded data removed]",
            "text/plain": [
              "<Figure size 864x792 with 2 Axes>"
            ]
          },
          "metadata": {
            "needs_background": "light"
          },
          "output_type": "display_data"
        },
        {
          "name": "stderr",
          "output_type": "stream",
          "text": [
            "100%|██████████| 1/1 [00:03<00:00,  3.74s/it]"
          ]
        },
        {
          "name": "stdout",
          "output_type": "stream",
          "text": [
            "0.09536389264843867\n",
            "\n",
            "Test Accuracy: 0.335\n"
          ]
        },
        {
          "name": "stderr",
          "output_type": "stream",
          "text": [
            "\n"
          ]
        }
      ],
      "source": [
        "o = evaluate_cat(model, test_dataset,batch_size=len(test_dataset))"
      ]
    },
    {
      "cell_type": "code",
      "execution_count": 385,
      "metadata": {},
      "outputs": [
        {
          "name": "stdout",
          "output_type": "stream",
          "text": [
            "tensor([4, 2, 2, 2, 2, 2, 2, 2, 2, 4, 2, 4, 4, 4, 2, 4, 4, 2, 4, 2, 2, 2, 2, 2,\n",
            "        2, 2, 2, 2, 2, 4, 2, 4, 2, 2, 2, 4, 2, 2, 2, 2, 2, 4, 2, 4, 2, 4, 2, 2,\n",
            "        2, 2, 2, 2, 2, 4, 2, 2, 2, 2, 2, 2, 2, 2, 2, 2, 2, 2, 2, 2, 4, 2, 2, 4,\n",
            "        2, 2, 4, 2, 2, 2, 2, 2, 2, 4, 2, 2, 4, 2, 4, 2, 2, 4, 2, 2, 4, 2, 2, 4,\n",
            "        2, 2, 4, 2, 2, 2, 2, 2, 2, 2, 4, 2, 2, 2, 4, 4, 2, 4, 4, 2, 2, 2, 2, 2,\n",
            "        2, 4, 2, 2, 4, 4, 2, 2, 2, 2, 2, 2, 2, 2, 4, 2, 4, 2, 4, 2, 4, 2, 2, 2,\n",
            "        2, 4, 2, 2, 4, 4, 2, 2, 2, 4, 4, 2, 2, 2, 4, 2, 2, 4, 2, 4, 4, 2, 2, 2,\n",
            "        2, 2, 4, 2, 2, 2, 2, 2, 4, 4, 2, 2, 2, 2, 4, 2, 4, 2, 4, 2, 2, 2, 2, 2,\n",
            "        2, 2, 2, 4, 2, 2, 2, 4, 4, 4, 2, 2, 4, 2, 2, 2, 2, 2, 4, 2, 2, 2, 2, 2,\n",
            "        2, 2, 4, 2, 2, 2, 2, 2, 4, 2, 2, 2, 2, 4, 4, 2, 2, 2, 2, 2, 2, 2, 2, 2,\n",
            "        2, 2, 4, 2, 4, 2, 2, 4, 2, 2, 2, 2, 2, 2, 2, 2, 4, 2, 4, 2, 4, 2, 2, 2,\n",
            "        2, 4, 4, 2, 2, 2, 2, 2, 2, 4, 4, 2, 2, 2, 4, 4, 2, 4, 2, 2, 4, 2, 4, 2,\n",
            "        2, 2, 2, 4, 2, 4, 4, 2, 2, 2, 2, 2, 4, 2, 4, 2, 2, 2, 4, 2, 2, 2, 2, 2,\n",
            "        2, 4, 4, 2, 2, 2, 4, 2, 4, 2, 4, 2, 2, 2, 2, 4, 2, 2, 2, 2, 4, 2, 2, 2,\n",
            "        2, 2, 2, 2, 2, 2, 2, 4, 2, 2, 2, 2, 4, 2, 4, 2, 2, 2, 2, 2, 2, 2, 2, 2,\n",
            "        4, 2, 2, 2, 4, 4, 2, 2, 2, 2, 2, 2, 2, 2, 4, 2, 4, 2, 2, 2, 4, 2, 2, 2,\n",
            "        4, 2, 2, 2, 2, 2, 2, 4, 2, 2, 2, 4, 2, 2, 2, 2, 4, 4, 2, 2, 2, 2, 4, 2,\n",
            "        2, 2, 2, 2, 2, 2, 2, 2, 2, 4, 2, 4, 2, 2, 2, 4, 2, 2, 2, 4, 2, 4, 2, 2,\n",
            "        2, 4, 2, 4, 2, 2, 2, 2, 2, 2, 4, 2, 2, 2, 4, 2, 4, 2, 2, 2, 2, 2, 2, 2,\n",
            "        2, 4, 2, 4, 2, 2, 2, 2, 2, 4, 4, 4, 4, 2, 2, 2, 4, 2, 2, 4, 2, 2, 2, 2,\n",
            "        2, 4, 2, 4, 2, 2, 2, 2, 4, 4, 2, 4, 4, 2, 2, 4, 2, 2, 4, 2, 2, 2, 2, 4,\n",
            "        4, 4, 2, 2, 2, 2, 2, 2, 2, 2, 2, 2, 2, 2, 2, 4, 4, 2, 4, 2, 2, 2, 4, 2,\n",
            "        4, 2, 4, 2, 2, 2, 4, 2, 2, 2, 2, 2, 4, 2, 2, 4, 4, 2, 2, 2, 4, 2, 2, 2,\n",
            "        2, 2, 2, 4, 2, 2, 4, 2, 2, 2, 2, 2, 4, 4, 2, 2, 2, 4, 4, 2, 4, 2, 2, 2,\n",
            "        2, 2, 2, 4, 2, 4, 2, 2, 4, 4, 2, 2, 4, 2, 2, 2, 2, 2, 2, 2, 2, 2, 2, 2,\n",
            "        2, 4, 4, 2, 2, 4, 2, 4, 2, 2, 2, 4, 4, 2, 2, 2, 4, 2, 2, 4, 2, 4, 2, 2,\n",
            "        2, 4, 2, 2, 2, 4, 4, 2, 2, 4, 2, 2, 4, 2, 2, 2, 2, 4, 4, 2, 2, 2, 2, 4,\n",
            "        4, 4, 2, 2, 2, 4, 2, 4, 2, 2, 2, 2, 2, 2, 2, 2, 2, 4, 2, 2, 2, 2, 2, 2,\n",
            "        4, 2, 4, 2, 4, 2, 2, 2, 2, 2, 2, 2, 2, 2, 4, 2, 2, 2, 2, 2, 2, 4, 2, 2,\n",
            "        2, 2, 2, 2, 4, 2, 4, 2, 2, 2, 2, 2, 2, 2, 2, 2, 2, 2, 2, 2, 2, 2, 2, 4,\n",
            "        2, 2, 2, 4, 2, 2, 2, 2, 4, 2, 2, 2, 2, 2, 4, 2, 2, 2, 2, 2, 4, 2, 2, 2,\n",
            "        4, 2, 2, 2, 2, 2, 2, 2, 2, 4, 2, 2, 2, 2, 2, 2, 2, 2, 2, 2, 2, 2, 2, 2,\n",
            "        4, 2, 2, 2, 2, 2, 2, 2, 2, 4, 2, 2, 2, 2, 2, 2, 2, 2, 2, 2, 2, 4, 2, 2,\n",
            "        2, 4, 2, 2, 2, 2, 4, 2, 2, 2, 2, 2, 2, 4, 4, 4, 2, 2, 2, 2, 4, 2, 2, 2,\n",
            "        2, 2, 2, 2, 2, 4, 2, 4, 2, 2, 2, 2, 2, 2, 2, 2, 2, 4, 4, 4, 2, 2, 2, 2,\n",
            "        2, 2, 2, 2, 2, 2, 2, 4, 4, 2, 2, 2, 2, 2, 2, 2, 4, 2, 2, 2, 2, 2, 2, 2,\n",
            "        2, 4, 4, 4, 2, 4, 4, 2, 2, 2, 2, 2, 2, 2, 2, 2, 2, 4, 2, 2, 2, 2, 2, 2,\n",
            "        2, 4, 2, 2, 4, 4, 2, 2, 2, 2, 2, 2, 2, 2, 2, 2, 2, 2, 2, 2, 4, 2, 2, 2,\n",
            "        4, 2, 2, 4, 4, 2, 2, 2, 2, 2, 2, 2, 2, 4, 2, 2, 4, 2, 2, 2, 2, 2, 2, 2,\n",
            "        2, 4, 2, 4, 2, 2, 2, 2, 2, 4, 4, 2, 2, 4, 4, 2, 2, 4, 2, 2, 2, 2, 2, 4,\n",
            "        2, 4, 2, 2, 2, 2, 2, 2, 2, 2, 4, 2, 2, 2, 2, 2, 2, 2, 4, 4, 4, 4, 2, 2,\n",
            "        4, 2, 2, 2, 2, 4, 4, 4, 2, 2, 4, 2, 2, 2, 4, 2])\n"
          ]
        }
      ],
      "source": [
        "print (o)"
      ]
    },
    {
      "cell_type": "code",
      "execution_count": null,
      "metadata": {},
      "outputs": [],
      "source": []
    }
  ],
  "metadata": {
    "accelerator": "GPU",
    "colab": {
      "provenance": []
    },
    "gpuClass": "standard",
    "kernelspec": {
      "display_name": "base",
      "language": "python",
      "name": "python3"
    },
    "language_info": {
      "codemirror_mode": {
        "name": "ipython",
        "version": 3
      },
      "file_extension": ".py",
      "mimetype": "text/x-python",
      "name": "python",
      "nbconvert_exporter": "python",
      "pygments_lexer": "ipython3",
      "version": "3.8.8"
    },
    "orig_nbformat": 4,
    "vscode": {
      "interpreter": {
        "hash": "88279d2366fe020547cde40dd65aa0e3aa662a6ec1f3ca12d88834876c85e1a6"
      }
    }
  },
  "nbformat": 4,
  "nbformat_minor": 0
}
